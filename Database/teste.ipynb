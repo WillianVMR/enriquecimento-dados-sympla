{
 "cells": [
  {
   "cell_type": "code",
   "execution_count": 2,
   "metadata": {},
   "outputs": [],
   "source": [
    "%load_ext sql"
   ]
  },
  {
   "cell_type": "code",
   "execution_count": 3,
   "metadata": {},
   "outputs": [
    {
     "data": {
      "text/html": [
       "<span style=\"None\">Connecting to &#x27;sqlite:///sympla_ibge_composed_data.sqlite3&#x27;</span>"
      ],
      "text/plain": [
       "Connecting to 'sqlite:///sympla_ibge_composed_data.sqlite3'"
      ]
     },
     "metadata": {},
     "output_type": "display_data"
    }
   ],
   "source": [
    "%sql sqlite:///sympla_ibge_composed_data.sqlite3"
   ]
  },
  {
   "cell_type": "code",
   "execution_count": 4,
   "metadata": {},
   "outputs": [
    {
     "data": {
      "text/html": [
       "<span style=\"None\">Running query in &#x27;sqlite:///sympla_ibge_composed_data.sqlite3&#x27;</span>"
      ],
      "text/plain": [
       "Running query in 'sqlite:///sympla_ibge_composed_data.sqlite3'"
      ]
     },
     "metadata": {},
     "output_type": "display_data"
    },
    {
     "data": {
      "text/html": [
       "<table>\n",
       "    <thead>\n",
       "        <tr>\n",
       "            <th>name</th>\n",
       "        </tr>\n",
       "    </thead>\n",
       "    <tbody>\n",
       "        <tr>\n",
       "            <td>dados_composicao</td>\n",
       "        </tr>\n",
       "        <tr>\n",
       "            <td>dados_pib</td>\n",
       "        </tr>\n",
       "        <tr>\n",
       "            <td>dados_sympla</td>\n",
       "        </tr>\n",
       "    </tbody>\n",
       "</table>"
      ],
      "text/plain": [
       "+------------------+\n",
       "|       name       |\n",
       "+------------------+\n",
       "| dados_composicao |\n",
       "|    dados_pib     |\n",
       "|   dados_sympla   |\n",
       "+------------------+"
      ]
     },
     "execution_count": 4,
     "metadata": {},
     "output_type": "execute_result"
    }
   ],
   "source": [
    "%sql SELECT name FROM sqlite_master WHERE type='table'"
   ]
  },
  {
   "cell_type": "code",
   "execution_count": 7,
   "metadata": {},
   "outputs": [
    {
     "data": {
      "text/html": [
       "<span style=\"None\">Running query in &#x27;sqlite:///sympla_ibge_composed_data.sqlite3&#x27;</span>"
      ],
      "text/plain": [
       "Running query in 'sqlite:///sympla_ibge_composed_data.sqlite3'"
      ]
     },
     "metadata": {},
     "output_type": "display_data"
    },
    {
     "data": {
      "text/html": [
       "<table>\n",
       "    <thead>\n",
       "        <tr>\n",
       "            <th>id_produtor</th>\n",
       "            <th>id_evento</th>\n",
       "            <th>dt_evento</th>\n",
       "            <th>ds_categoria_evento</th>\n",
       "            <th>ds_segmento_evento</th>\n",
       "            <th>ds_tipo_evento</th>\n",
       "            <th>cd_uf_evento</th>\n",
       "            <th>nm_cidade_evento</th>\n",
       "            <th>cd_latitude_evento</th>\n",
       "            <th>cd_longitude_evento</th>\n",
       "            <th>ds_grupo_produtor</th>\n",
       "            <th>ds_tipo_ingresso</th>\n",
       "            <th>fg_ingresso_gratuito</th>\n",
       "            <th>vr_ingresso</th>\n",
       "            <th>vr_taxa_sympla</th>\n",
       "            <th>qt_ingresso_disponibilizado</th>\n",
       "            <th>qt_ingresso_vendido</th>\n",
       "        </tr>\n",
       "    </thead>\n",
       "    <tbody>\n",
       "        <tr>\n",
       "            <td>000002007aa6ef38b42561e2fb6bc68c</td>\n",
       "            <td>182635</td>\n",
       "            <td>2017-10-28</td>\n",
       "            <td>ARTE, CINEMA E CULTURA</td>\n",
       "            <td>ARTE E CULTURA</td>\n",
       "            <td>PRESENCIAL</td>\n",
       "            <td>MG</td>\n",
       "            <td>BELO HORIZONTE</td>\n",
       "            <td>-19.916026</td>\n",
       "            <td>-43.931506</td>\n",
       "            <td>LONG TAIL</td>\n",
       "            <td>Antecipado 28/10 - 20h</td>\n",
       "            <td>0</td>\n",
       "            <td>10.0</td>\n",
       "            <td>2.0</td>\n",
       "            <td>100</td>\n",
       "            <td>10</td>\n",
       "        </tr>\n",
       "        <tr>\n",
       "            <td>000002007aa6ef38b42561e2fb6bc68c</td>\n",
       "            <td>182635</td>\n",
       "            <td>2017-10-28</td>\n",
       "            <td>ARTE, CINEMA E CULTURA</td>\n",
       "            <td>ARTE E CULTURA</td>\n",
       "            <td>PRESENCIAL</td>\n",
       "            <td>MG</td>\n",
       "            <td>BELO HORIZONTE</td>\n",
       "            <td>-19.916026</td>\n",
       "            <td>-43.931506</td>\n",
       "            <td>LONG TAIL</td>\n",
       "            <td>Antecipado 29/10 - 19h</td>\n",
       "            <td>0</td>\n",
       "            <td>10.0</td>\n",
       "            <td>2.0</td>\n",
       "            <td>100</td>\n",
       "            <td>6</td>\n",
       "        </tr>\n",
       "        <tr>\n",
       "            <td>0000764d181de604fdd5a1433c4342eb</td>\n",
       "            <td>458440</td>\n",
       "            <td>2019-02-28</td>\n",
       "            <td>AUTODESENVOLVIMENTO</td>\n",
       "            <td>AUTODESENVOLVIMENTO</td>\n",
       "            <td>PRESENCIAL</td>\n",
       "            <td>SP</td>\n",
       "            <td>SÃO PAULO</td>\n",
       "            <td>-23.577179</td>\n",
       "            <td>-46.669862</td>\n",
       "            <td>LONG TAIL</td>\n",
       "            <td>LIDERANÇA FEMININA</td>\n",
       "            <td>1</td>\n",
       "            <td>0.0</td>\n",
       "            <td>0.0</td>\n",
       "            <td>50</td>\n",
       "            <td>34</td>\n",
       "        </tr>\n",
       "        <tr>\n",
       "            <td>0000a538068e415349c022d964198860</td>\n",
       "            <td>907001</td>\n",
       "            <td>2020-07-19</td>\n",
       "            <td>RELIGIÃO E ESPIRITUALIDADE</td>\n",
       "            <td>RELIGIÃO E ESPIRITUALIDADE</td>\n",
       "            <td>PRESENCIAL</td>\n",
       "            <td>RJ</td>\n",
       "            <td>RIO DE JANEIRO</td>\n",
       "            <td>-22.892172</td>\n",
       "            <td>-43.417093</td>\n",
       "            <td>LONG TAIL</td>\n",
       "            <td>Missa 7h</td>\n",
       "            <td>1</td>\n",
       "            <td>0.0</td>\n",
       "            <td>0.0</td>\n",
       "            <td>43</td>\n",
       "            <td>57</td>\n",
       "        </tr>\n",
       "        <tr>\n",
       "            <td>0000a538068e415349c022d964198860</td>\n",
       "            <td>907381</td>\n",
       "            <td>2020-07-19</td>\n",
       "            <td>RELIGIÃO E ESPIRITUALIDADE</td>\n",
       "            <td>RELIGIÃO E ESPIRITUALIDADE</td>\n",
       "            <td>PRESENCIAL</td>\n",
       "            <td>RJ</td>\n",
       "            <td>RIO DE JANEIRO</td>\n",
       "            <td>-22.892172</td>\n",
       "            <td>-43.417093</td>\n",
       "            <td>LONG TAIL</td>\n",
       "            <td>Missa 9h</td>\n",
       "            <td>1</td>\n",
       "            <td>0.0</td>\n",
       "            <td>0.0</td>\n",
       "            <td>43</td>\n",
       "            <td>45</td>\n",
       "        </tr>\n",
       "    </tbody>\n",
       "</table>"
      ],
      "text/plain": [
       "+----------------------------------+-----------+------------+----------------------------+----------------------------+----------------+--------------+------------------+--------------------+---------------------+-------------------+------------------------+----------------------+-------------+----------------+-----------------------------+---------------------+\n",
       "|           id_produtor            | id_evento | dt_evento  |    ds_categoria_evento     |     ds_segmento_evento     | ds_tipo_evento | cd_uf_evento | nm_cidade_evento | cd_latitude_evento | cd_longitude_evento | ds_grupo_produtor |    ds_tipo_ingresso    | fg_ingresso_gratuito | vr_ingresso | vr_taxa_sympla | qt_ingresso_disponibilizado | qt_ingresso_vendido |\n",
       "+----------------------------------+-----------+------------+----------------------------+----------------------------+----------------+--------------+------------------+--------------------+---------------------+-------------------+------------------------+----------------------+-------------+----------------+-----------------------------+---------------------+\n",
       "| 000002007aa6ef38b42561e2fb6bc68c |   182635  | 2017-10-28 |   ARTE, CINEMA E CULTURA   |       ARTE E CULTURA       |   PRESENCIAL   |      MG      |  BELO HORIZONTE  |     -19.916026     |      -43.931506     |     LONG TAIL     | Antecipado 28/10 - 20h |          0           |     10.0    |      2.0       |             100             |          10         |\n",
       "| 000002007aa6ef38b42561e2fb6bc68c |   182635  | 2017-10-28 |   ARTE, CINEMA E CULTURA   |       ARTE E CULTURA       |   PRESENCIAL   |      MG      |  BELO HORIZONTE  |     -19.916026     |      -43.931506     |     LONG TAIL     | Antecipado 29/10 - 19h |          0           |     10.0    |      2.0       |             100             |          6          |\n",
       "| 0000764d181de604fdd5a1433c4342eb |   458440  | 2019-02-28 |    AUTODESENVOLVIMENTO     |    AUTODESENVOLVIMENTO     |   PRESENCIAL   |      SP      |    SÃO PAULO     |     -23.577179     |      -46.669862     |     LONG TAIL     |   LIDERANÇA FEMININA   |          1           |     0.0     |      0.0       |              50             |          34         |\n",
       "| 0000a538068e415349c022d964198860 |   907001  | 2020-07-19 | RELIGIÃO E ESPIRITUALIDADE | RELIGIÃO E ESPIRITUALIDADE |   PRESENCIAL   |      RJ      |  RIO DE JANEIRO  |     -22.892172     |      -43.417093     |     LONG TAIL     |        Missa 7h        |          1           |     0.0     |      0.0       |              43             |          57         |\n",
       "| 0000a538068e415349c022d964198860 |   907381  | 2020-07-19 | RELIGIÃO E ESPIRITUALIDADE | RELIGIÃO E ESPIRITUALIDADE |   PRESENCIAL   |      RJ      |  RIO DE JANEIRO  |     -22.892172     |      -43.417093     |     LONG TAIL     |        Missa 9h        |          1           |     0.0     |      0.0       |              43             |          45         |\n",
       "+----------------------------------+-----------+------------+----------------------------+----------------------------+----------------+--------------+------------------+--------------------+---------------------+-------------------+------------------------+----------------------+-------------+----------------+-----------------------------+---------------------+"
      ]
     },
     "execution_count": 7,
     "metadata": {},
     "output_type": "execute_result"
    }
   ],
   "source": [
    "%%sql\n",
    "SELECT *\n",
    "FROM dados_sympla\n",
    "LIMIT 5"
   ]
  }
 ],
 "metadata": {
  "kernelspec": {
   "display_name": "base",
   "language": "python",
   "name": "python3"
  },
  "language_info": {
   "codemirror_mode": {
    "name": "ipython",
    "version": 3
   },
   "file_extension": ".py",
   "mimetype": "text/x-python",
   "name": "python",
   "nbconvert_exporter": "python",
   "pygments_lexer": "ipython3",
   "version": "3.11.7"
  }
 },
 "nbformat": 4,
 "nbformat_minor": 2
}
